{
 "cells": [
  {
   "cell_type": "markdown",
   "metadata": {},
   "source": [
    "Import Packages"
   ]
  },
  {
   "cell_type": "code",
   "execution_count": 19,
   "metadata": {},
   "outputs": [],
   "source": [
    "import xarray as xr\n",
    "import numpy as np\n",
    "import pandas as pd\n",
    "import packaging\n",
    "import matplotlib.pyplot as plt\n",
    "import netCDF4\n",
    "import math"
   ]
  },
  {
   "cell_type": "markdown",
   "metadata": {},
   "source": [
    "Define Functions"
   ]
  },
  {
   "cell_type": "code",
   "execution_count": 20,
   "metadata": {},
   "outputs": [],
   "source": [
    "\n",
    "def read_csv(filename):\n",
    "    '''Read in data from csv, assign headers, set datatypes, perform unit conversions if necessary, and find time step for\n",
    "       the dataset in minutes.'''\n",
    "# read data from csv\n",
    "    headers = ['datetime', 'pr']\n",
    "    dtypes = {'col1': 'str', 'col2': 'float'}\n",
    "    date_cols = ['datetime']\n",
    "    storms_data = pd.read_csv(filename, dtype = dtypes, header=None, names = headers, parse_dates = date_cols)\n",
    "    \n",
    "    # perform unit conversions\n",
    "    storms_data.loc[ : , 'pr'] = storms_data.loc[ : , 'pr']\n",
    "\n",
    "    # determine time step by subtracting one datetime from another\n",
    "    TS = storms_data.loc[1, 'datetime'] - storms_data.loc[0, 'datetime']\n",
    "    # convert time delta type to int type in minutes\n",
    "    TS = int(TS.total_seconds() / 60)\n",
    "    \n",
    "    return storms_data\n",
    "\n",
    "def read_netcdf4(filename):\n",
    "    '''Read in data from netcdf4, assign headers, set datatypes, perform unit conversions if necessary'''\n",
    "    # read in netcdf4 data to xarray\n",
    "    storms_data = xr.open_dataset(filename)\n",
    "    # convert xarray dataarray to pandas dataframe\n",
    "    storms_data = storms_data.RAINRATE.to_dataframe()\n",
    "    # get rid of lat long columns that could stay without causing any issues, but I spent ten minutes trying to get it to work, \n",
    "    # so they will remain removed\n",
    "    storms_data = storms_data.drop(['lat', 'lon'], axis=1)\n",
    "    # default index is multiindex. drop the additonal levels\n",
    "    storms_data = storms_data.droplevel(['x', 'y'])\n",
    "    # datetime was being used as the index, not one of the columns. Change it into a column and reset index\n",
    "    storms_data['datetime'] = storms_data.index\n",
    "    storms_data = storms_data.reset_index(drop = True)\n",
    "    # convert datetime column from string to datetime\n",
    "    storms_data['datetime']= pd.to_datetime(storms_data['datetime'])\n",
    "    # rename columns\n",
    "    storms_data = storms_data.rename(columns={\"RAINRATE\": \"pr\"})\n",
    "    # reorder columns\n",
    "    storms_data = storms_data.iloc[:,[1, 0]]\n",
    "\n",
    "#     # perform unit conversions if necessary\n",
    "#     # default units for netcdf4 are mm to 0.1 mm accuracy\n",
    "#     storms_data.loc[ : , 'pr'] = storms_data.loc[ : , 'pr']\n",
    "\n",
    "    return storms_data\n",
    "\n",
    "\n",
    "def find_timestep(storms_data):\n",
    "    '''Find time step of dataset in minutes by subtracting two datetimes'''\n",
    "    # determine time step by subtracting one datetime from another\n",
    "    TS = storms_data.iloc[1, 0] - storms_data.iloc[0, 0]\n",
    "    # convert timedelta type to int type in minutes\n",
    "    TS = TS.total_seconds() / 60\n",
    "    return TS\n",
    "\n",
    "\n",
    "def discretize_by_storm(historical, dry_time_between_storms, TS):\n",
    "    '''Read in historical precipitation TS and assign numbers to each storm that occurs in a new column.'''\n",
    "    \n",
    "    storm_no = 1 # set starting point for labelling the number of storms in your time series\n",
    "    dry_counter = 0 # intialize counter that counts number of consecutive dry time steps\n",
    "    historical['storm_no'] = \"There is nothing here.\" # create new empty column\n",
    "    \n",
    "    for count, precip in enumerate(historical['pr']):\n",
    "        dry_counter += 1\n",
    "        if precip > 0:\n",
    "            dry_counter = 0\n",
    "\n",
    "        if dry_counter == dry_time_between_storms / TS:\n",
    "            storm_no += 1\n",
    "        historical['storm_no'].iloc[count] = storm_no\n",
    "#         print(precip, storm_no)\n",
    "        \n",
    "    return historical\n",
    "\n",
    "\n",
    "def trim_to_storms(discretized_historical, dry_time_between_storms, TS):\n",
    "    '''Reads in discretized storms and trims out long periods of dry time between them. Returns a table with the duration\n",
    "       of each storm in minutes rounded to the nearest usable length.'''\n",
    "    dry_counter = 0 # intialize counter that counts number of consecutive dry time steps\n",
    "    \n",
    "    for count, precip in enumerate(discretized_historical['pr']):\n",
    "        dry_counter += 1\n",
    "        if precip > 0:\n",
    "            dry_counter = 0\n",
    "\n",
    "        if dry_counter >= dry_time_between_storms / TS:\n",
    "            discretized_historical = discretized_historical.drop([count])\n",
    "\n",
    "    storm_durations = discretized_historical.groupby(['storm_no']).count() * TS\n",
    "    storm_durations['duration'] = storm_durations['datetime']\n",
    "    storm_durations = storm_durations.drop(['datetime', 'pr'], axis = 1)\n",
    "        \n",
    "    storm_sums = discretized_historical.groupby(['storm_no'])['pr'].sum()\n",
    "    storm_sums = storm_sums.to_frame()\n",
    "    storm_sums['pr_sum'] = storm_sums['pr']\n",
    "    storm_sums = storm_sums.drop(['pr'], axis = 1)\n",
    "    \n",
    "    merge_durations_sums = storm_sums.merge(storm_durations, left_on = 'storm_no', right_on = 'storm_no')\n",
    "\n",
    "#     storm_durations['duration'] = storm_durations['datetime']\n",
    "#     storm_durations = storm_durations.drop(['pr', 'datetime'], axis = 1)\n",
    "    \n",
    "    return merge_durations_sums\n",
    "\n",
    "\n",
    "def round_to_durations(trimmed_discretized_historical):\n",
    "    '''Rounds the duration of every storm to its closest accepted value.'''\n",
    "    rounded_trimmed_discretized_historical = trimmed_discretized_historical\n",
    "    for count, value in enumerate(rounded_trimmed_discretized_historical['duration']):\n",
    "        if 60 <= value < 180:\n",
    "            value = 120\n",
    "            \n",
    "        elif 180 <= value < 720:\n",
    "            value = 360 \n",
    "\n",
    "        else:\n",
    "            value = 1080\n",
    "            \n",
    "        rounded_trimmed_discretized_historical['duration'].iloc[count] = value\n",
    "        \n",
    "    return rounded_trimmed_discretized_historical\n",
    "\n",
    "\n",
    "def merge_dfs(discretized, rounded):\n",
    "    merged = discretized.merge(rounded, left_on = 'storm_no', right_index = True)\n",
    "\n",
    "    return merged\n",
    "\n",
    "\n",
    "def project_individual(master_modeled_past, master_modeled_future, master_obs):\n",
    "    # calculate statistics for each duration bucket duration based on past & future modeled and observed data\n",
    "    mean_pr_modeled_past = master_modeled_past.groupby(['duration']).mean(numeric_only=True)\n",
    "    std_pr_modeled_past  = master_modeled_past.groupby(['duration']).std(numeric_only=True)\n",
    "    \n",
    "    mean_pr_modeled_future = master_modeled_future.groupby(['duration']).mean(numeric_only=True)\n",
    "    std_pr_modeled_future  = master_modeled_future.groupby(['duration']).std(numeric_only=True)\n",
    "    \n",
    "    mean_pr_obs = master_obs.groupby(['duration']).mean(numeric_only=True)\n",
    "    std_pr_obs  = master_obs.groupby(['duration']).std(numeric_only=True)\n",
    "    \n",
    "    euler_mascheroni_constant = 0.57721566490153286060651209008240243104215933593992\n",
    "    \n",
    "    # calculate shape factors from statistics for each duration\n",
    "    beta_modeled_past = std_pr_modeled_past.pr * math.sqrt(6) / math.pi\n",
    "    mu_modeled_past = mean_pr_modeled_past.pr - beta_modeled_past * euler_mascheroni_constant\n",
    "\n",
    "    beta_modeled_future = std_pr_modeled_future.pr * math.sqrt(6) / math.pi\n",
    "    mu_modeled_future = mean_pr_modeled_future.pr - beta_modeled_future * euler_mascheroni_constant\n",
    "    \n",
    "    beta_obs = std_pr_obs.pr * math.sqrt(6) / math.pi\n",
    "    mu_obs = mean_pr_obs.pr - beta_obs * euler_mascheroni_constant\n",
    "    \n",
    "    \n",
    "    # Project obs into the future\n",
    "    for count, value in enumerate(master_obs.pr):\n",
    "        master_obs.loc[count, 'CDF'] = math.exp(-1 * math.exp(-1 * (value - float(mu_modeled_past.loc[master_obs['duration'].iloc[count]])) / float(beta_modeled_past.loc[master_obs['duration'].iloc[count]])))\n",
    "        master_obs.loc[count, 'projected_pr'] = -1 * float(beta_modeled_future.loc[master_obs['duration'].iloc[count]]) * (math.log(-1 * math.log(float(master_obs.loc[count, 'CDF'])))) + float(mu_modeled_future.loc[master_obs['duration'].iloc[count]])   \n",
    "    return(master_obs)\n",
    "\n",
    "\n",
    "def project_bucketed(master_modeled_past, master_modeled_future, master_obs):\n",
    "    # calculate statistics for each duration bucket duration based on past & future modeled and observed data\n",
    "    mean_pr_modeled_past = master_modeled_past.groupby(['duration']).mean(numeric_only=True)\n",
    "    std_pr_modeled_past  = master_modeled_past.groupby(['duration']).std(numeric_only=True)\n",
    "    \n",
    "    mean_pr_modeled_future = master_modeled_future.groupby(['duration']).mean(numeric_only=True)\n",
    "    std_pr_modeled_future  = master_modeled_future.groupby(['duration']).std(numeric_only=True)\n",
    "    \n",
    "    mean_pr_obs = master_obs.groupby(['duration']).mean(numeric_only=True)\n",
    "    std_pr_obs  = master_obs.groupby(['duration']).std(numeric_only=True)\n",
    "    \n",
    "    euler_mascheroni_constant = 0.57721566490153286060651209008240243104215933593992\n",
    "    \n",
    "    # calculate shape factors from statistics for each duration\n",
    "    beta_modeled_past = std_pr_modeled_past.pr_sum * math.sqrt(6) / math.pi\n",
    "    mu_modeled_past = mean_pr_modeled_past.pr_sum - beta_modeled_past * euler_mascheroni_constant\n",
    "\n",
    "    beta_modeled_future = std_pr_modeled_future.pr_sum * math.sqrt(6) / math.pi\n",
    "    mu_modeled_future = mean_pr_modeled_future.pr_sum - beta_modeled_future * euler_mascheroni_constant\n",
    "    \n",
    "    beta_obs = std_pr_obs.pr_sum * math.sqrt(6) / math.pi\n",
    "    mu_obs = mean_pr_obs.pr_sum - beta_obs * euler_mascheroni_constant\n",
    "    \n",
    "    \n",
    "    # Project obs into the future\n",
    "    for count, value in enumerate(master_obs.pr_sum):\n",
    "        master_obs.loc[count, 'CDF'] = math.exp(-1 * math.exp(-1 * (value - float(mu_modeled_past.loc[master_obs['duration'].iloc[count]])) / float(beta_modeled_past.loc[master_obs['duration'].iloc[count]])))\n",
    "        master_obs.loc[count, 'projected_pr_sum'] = -1 * float(beta_modeled_future.loc[master_obs['duration'].iloc[count]]) * (math.log(-1 * math.log(float(master_obs.loc[count, 'CDF'])))) + float(mu_modeled_future.loc[master_obs['duration'].iloc[count]])   \n",
    "\n",
    "    master_obs['projected_pr'] = master_obs.pr * (master_obs.projected_pr / master_obs.pr_sum)\n",
    "    \n",
    "    return(master_obs)\n",
    "\n",
    "\n",
    "def project_by_intensity(storms_modeled_past, storms_modeled_future, storms_obs):\n",
    "            \n",
    "    # calculate statistics for each storm duration based on full rolling input of ~past~ data\n",
    "    past_mean_pr = storms_modeled_past['pr'].mean()\n",
    "    past_std_pr  = storms_modeled_past['pr'].std()\n",
    "    euler_mascheroni_constant = 0.57721566490153286060651209008240243104215933593992\n",
    "    \n",
    "    # calculate shape factors from statistics for each duration\n",
    "    past_beta = past_std_pr * math.sqrt(6) / math.pi\n",
    "    past_mu = past_mean_pr - past_beta * euler_mascheroni_constant\n",
    "\n",
    "    # calculate statistics for each storm duration based on full rolling input of ~future~ data\n",
    "    future_mean_pr = storms_modeled_future['pr'].mean()\n",
    "    future_std_pr  = storms_modeled_future['pr'].std()\n",
    "\n",
    "    # calculate shape factors from statistics for each duration\n",
    "    future_beta = future_std_pr * math.sqrt(6) / math.pi\n",
    "    future_mu = future_mean_pr - future_beta * euler_mascheroni_constant\n",
    "    \n",
    "    for count, value in enumerate(storms_obs.loc[ : ,'pr']):\n",
    "        storms_obs.loc[count, 'CDF'] = math.exp(-1 * math.exp(-1 * (value - float(past_mu)) / float(past_beta)))\n",
    "        storms_obs.loc[count, 'projected_pr'] = -1 * future_beta * (math.log(-1 * math.log(storms_obs.loc[count, 'CDF']))) + future_mu\n",
    "#         historical.loc[count, 'Delta'] = historical.loc[count, 'Projected pr'] / historical.loc[count, 'pr']\n",
    "    return storms_obs"
   ]
  },
  {
   "cell_type": "markdown",
   "metadata": {},
   "source": [
    "Call functions to manipulate & analyze past & future modeled data"
   ]
  },
  {
   "cell_type": "code",
   "execution_count": 21,
   "metadata": {},
   "outputs": [],
   "source": [
    "# Read netCDF4 data\n",
    "modeled_data = read_netcdf4('CONUS404-19791001-20221001-Dover-Air-Force-Base.nc')\n",
    "\n",
    "# This cell is used only while I don't have the full future CONUS404 dataset. It splits the past data in half \n",
    "# and pretends that the latter part is from the future.\n",
    "storms_modeled_past = modeled_data.iloc[:188471,:]\n",
    "storms_modeled_future = modeled_data.iloc[188471:,:]\n",
    "storms_modeled_future.reset_index(inplace = True, drop = True)"
   ]
  },
  {
   "cell_type": "code",
   "execution_count": 5,
   "metadata": {},
   "outputs": [],
   "source": [
    "# Set initial values and find TS of modeled data\n",
    "discretized_modeled_past = 0\n",
    "discretized_modeled_future = 0\n",
    "dry_time_between_storms = 360\n",
    "modeled_TS = find_timestep(storms_modeled_past)\n",
    "\n",
    "# Discretize modeled data\n",
    "# Commenting out while the file exists unchanged to save time\n",
    "# discretize_by_storm(storms_modeled_past, dry_time_between_storms, modeled_TS).to_csv('files/discretized_modeled_past.csv', index = False)\n",
    "# discretize_by_storm(storms_modeled_future, dry_time_between_storms, modeled_TS).to_csv('files/discretized_modeled_future.csv')"
   ]
  },
  {
   "cell_type": "code",
   "execution_count": 6,
   "metadata": {},
   "outputs": [],
   "source": [
    "# Read dataframes from csv\n",
    "discretized_modeled_past = pd.read_csv('files/discretized_modeled_past.csv')\n",
    "discretized_modeled_future = pd.read_csv('files/discretized_modeled_future.csv')\n",
    "\n",
    "# Trim out dry times, leaving only rain. Useful for finding duration of storms\n",
    "# trim_to_storms(discretized_modeled_past, dry_time_between_storms, modeled_TS).to_csv('files/trimmed_modeled_past.csv', index = False)\n",
    "# trim_to_storms(discretized_modeled_future, dry_time_between_storms, modeled_TS).to_csv('files/trimmed_modeled_future.csv', index = False)"
   ]
  },
  {
   "cell_type": "markdown",
   "metadata": {},
   "source": [
    "Here I manually drop a column I don't want which is created during the trimming. Later, fix the trimming so this column is not included in the first place. For now, it takes too long to trim the dfs."
   ]
  },
  {
   "cell_type": "code",
   "execution_count": null,
   "metadata": {},
   "outputs": [],
   "source": [
    "trimmed_modeled_past = pd.read_csv('files/trimmed_modeled_past.csv')\n",
    "trimmed_modeled_future = pd.read_csv('files/trimmed_modeled_future.csv')\n",
    "\n",
    "# Round each storm duration. Using three buckets - short (< 3 hrs), medium (3 - 12 hrs), & long (> 12 hrs)\n",
    "rounded_modeled_past = round_to_durations(trimmed_modeled_past)\n",
    "rounded_modeled_future = round_to_durations(trimmed_modeled_future)\n",
    "\n",
    "# Drop unwanted columns created during the trimming. There's a statement here and one later. \n",
    "# For some reason they work. Leave them alone for now.\n",
    "rounded_modeled_future = rounded_modeled_future.drop(rounded_modeled_future.columns[1], axis=1)\n",
    "\n",
    "# Merge the rounded df with the discretized df to create one df with every timestep, fine precipitation depths,\n",
    "# the total precipitation depth for the entire storm, and the duration of the storms (in buckets)\n",
    "master_modeled_past = merge_dfs(discretized_modeled_past, rounded_modeled_past)\n",
    "master_modeled_future = merge_dfs(discretized_modeled_future, rounded_modeled_future)\n",
    "\n",
    "# Needed to get rid of the unnamed: 0 columns. Don't touch for now\n",
    "master_modeled_future = master_modeled_future.drop(master_modeled_future.columns[0], axis=1)\n"
   ]
  },
  {
   "cell_type": "markdown",
   "metadata": {},
   "source": [
    "Call functions to read & analyze historical data"
   ]
  },
  {
   "cell_type": "code",
   "execution_count": 22,
   "metadata": {},
   "outputs": [],
   "source": [
    "# Read observed data from .csv\n",
    "storms_obs = read_csv('2012_historical.csv')\n",
    "\n",
    "# Set initial values and find TS of modeled data\n",
    "discretized_obs = 0\n",
    "dry_time_between_storms = 360\n",
    "obs_TS = find_timestep(storms_obs)\n",
    "\n",
    "# Discretize observed data\n",
    "# Commenting out while the file exists unchanged to save time\n",
    "# discretize_by_storm(storms_obs, dry_time_between_storms, obs_TS).to_csv('files/discretized_obs.csv', index = False)"
   ]
  },
  {
   "cell_type": "code",
   "execution_count": 16,
   "metadata": {},
   "outputs": [],
   "source": [
    "# Read dataframe from csv\n",
    "discretized_obs = pd.read_csv('files/discretized_obs.csv')\n",
    "\n",
    "# Trim out dry times, leaving only rain. Useful for finding duration of storms\n",
    "# trim_to_storms(discretized_obs, dry_time_between_storms, obs_TS).to_csv('files/trimmed_obs.csv', index = False)"
   ]
  },
  {
   "cell_type": "code",
   "execution_count": null,
   "metadata": {},
   "outputs": [],
   "source": [
    "# Read data from .csv\n",
    "trimmed_obs = pd.read_csv('files/trimmed_obs.csv')\n",
    "\n",
    "# Round each storm duration. Using three buckets - short (< 3 hrs), medium (3 - 12 hrs), & long (> 12 hrs)\n",
    "rounded_obs = round_to_durations(trimmed_obs)\n",
    "\n",
    "# Merge the rounded df with the discretized df to create one df with every timestep, fine precipitation depths,\n",
    "# the total precipitation depth for the entire storm, and the duration of the storms (in buckets)\n",
    "master_obs = merge_dfs(discretized_obs, rounded_obs)"
   ]
  },
  {
   "cell_type": "markdown",
   "metadata": {},
   "source": [
    "Use master data (modeled & observed) to calculate distribution statistics and project"
   ]
  },
  {
   "cell_type": "markdown",
   "metadata": {},
   "source": [
    "Below doesn't use pr_sum at all. It does not use the same delta for the entire storm, but, rather, a set of deltas based on duration buckets.\n",
    "\n",
    "To use one delta for the entire storm, you'd have to actually calculate the delta based on pr_sum and then multiply across to each pr."
   ]
  },
  {
   "cell_type": "code",
   "execution_count": null,
   "metadata": {},
   "outputs": [],
   "source": [
    "projected_obs_individual = 0\n",
    "projected_obs_individual = project_individual(master_modeled_past, master_modeled_future, master_obs)\n",
    "display(projected_obs_individual)"
   ]
  },
  {
   "cell_type": "markdown",
   "metadata": {},
   "source": [
    "Plot results"
   ]
  },
  {
   "cell_type": "code",
   "execution_count": null,
   "metadata": {},
   "outputs": [],
   "source": [
    "x1 = projected_obs_individual.datetime[:]\n",
    "y1 = projected_obs_individual.pr[:]\n",
    "\n",
    "x2 = x1\n",
    "y2 = projected_obs_individual.projected_pr[:]\n",
    "plt.xticks([])\n",
    "plt.xlim()\n",
    "\n",
    "plt.plot(x2, y2, x1, y1, label='Projected Precipitation')\n",
    "\n",
    "plt.show\n"
   ]
  },
  {
   "cell_type": "code",
   "execution_count": null,
   "metadata": {},
   "outputs": [],
   "source": [
    "x1 = projected_obs_individual.datetime[3050:3250]\n",
    "y1 = projected_obs_individual.pr[3050:3250]\n",
    "\n",
    "x2 = x1\n",
    "y2 = projected_obs_individual.projected_pr[3050:3250]\n",
    "\n",
    "# plt.figure(figsize=(18,15))\n",
    "plt.xticks([])\n",
    "plt.xlim()\n",
    "\n",
    "plt.plot(x2, y2, x1, y1, label='Projected Precipitation')\n",
    "\n",
    "plt.show\n"
   ]
  },
  {
   "cell_type": "markdown",
   "metadata": {},
   "source": [
    "Project using one delta for each storm - use pr_sum instead of pr"
   ]
  },
  {
   "cell_type": "code",
   "execution_count": null,
   "metadata": {},
   "outputs": [],
   "source": [
    "projected_obs_bucketed = 0\n",
    "projected_obs_bucketed = project_bucketed(master_modeled_past, master_modeled_future, master_obs)\n",
    "display(projected_obs_bucketed)"
   ]
  },
  {
   "cell_type": "code",
   "execution_count": null,
   "metadata": {},
   "outputs": [],
   "source": [
    "x1 = projected_obs_individual.datetime[:]\n",
    "y1 = projected_obs_individual.pr[:]\n",
    "\n",
    "x2 = x1\n",
    "y2 = projected_obs_individual.projected_pr[:]\n",
    "plt.xticks([])\n",
    "plt.xlim()\n",
    "\n",
    "plt.plot(x2, y2, x1, y1, label='Projected Precipitation')\n",
    "\n",
    "plt.show"
   ]
  },
  {
   "cell_type": "code",
   "execution_count": null,
   "metadata": {},
   "outputs": [],
   "source": [
    "x1 = projected_obs_individual.datetime[3050:3250]\n",
    "y1 = projected_obs_individual.pr[3050:3250]\n",
    "\n",
    "x2 = x1\n",
    "y2 = projected_obs_individual.projected_pr[3050:3250]\n",
    "\n",
    "# plt.figure(figsize=(18,15))\n",
    "plt.xticks([])\n",
    "plt.xlim()\n",
    "\n",
    "plt.plot(x2, y2, x1, y1, label='Projected Precipitation')\n",
    "\n",
    "plt.show"
   ]
  },
  {
   "cell_type": "markdown",
   "metadata": {},
   "source": [
    "Third method: project by intensity"
   ]
  },
  {
   "cell_type": "code",
   "execution_count": 23,
   "metadata": {},
   "outputs": [
    {
     "data": {
      "text/html": [
       "<div>\n",
       "<style scoped>\n",
       "    .dataframe tbody tr th:only-of-type {\n",
       "        vertical-align: middle;\n",
       "    }\n",
       "\n",
       "    .dataframe tbody tr th {\n",
       "        vertical-align: top;\n",
       "    }\n",
       "\n",
       "    .dataframe thead th {\n",
       "        text-align: right;\n",
       "    }\n",
       "</style>\n",
       "<table border=\"1\" class=\"dataframe\">\n",
       "  <thead>\n",
       "    <tr style=\"text-align: right;\">\n",
       "      <th></th>\n",
       "      <th>datetime</th>\n",
       "      <th>pr</th>\n",
       "      <th>CDF</th>\n",
       "      <th>projected_pr</th>\n",
       "    </tr>\n",
       "  </thead>\n",
       "  <tbody>\n",
       "    <tr>\n",
       "      <th>0</th>\n",
       "      <td>2012-01-01 00:00:00</td>\n",
       "      <td>0.0</td>\n",
       "      <td>0.510119</td>\n",
       "      <td>-0.008602</td>\n",
       "    </tr>\n",
       "    <tr>\n",
       "      <th>1</th>\n",
       "      <td>2012-01-01 00:05:00</td>\n",
       "      <td>0.0</td>\n",
       "      <td>0.510119</td>\n",
       "      <td>-0.008602</td>\n",
       "    </tr>\n",
       "    <tr>\n",
       "      <th>2</th>\n",
       "      <td>2012-01-01 00:10:00</td>\n",
       "      <td>0.0</td>\n",
       "      <td>0.510119</td>\n",
       "      <td>-0.008602</td>\n",
       "    </tr>\n",
       "    <tr>\n",
       "      <th>3</th>\n",
       "      <td>2012-01-01 00:15:00</td>\n",
       "      <td>0.0</td>\n",
       "      <td>0.510119</td>\n",
       "      <td>-0.008602</td>\n",
       "    </tr>\n",
       "    <tr>\n",
       "      <th>4</th>\n",
       "      <td>2012-01-01 00:20:00</td>\n",
       "      <td>0.0</td>\n",
       "      <td>0.510119</td>\n",
       "      <td>-0.008602</td>\n",
       "    </tr>\n",
       "    <tr>\n",
       "      <th>...</th>\n",
       "      <td>...</td>\n",
       "      <td>...</td>\n",
       "      <td>...</td>\n",
       "      <td>...</td>\n",
       "    </tr>\n",
       "    <tr>\n",
       "      <th>105073</th>\n",
       "      <td>2012-12-31 23:35:00</td>\n",
       "      <td>0.0</td>\n",
       "      <td>0.510119</td>\n",
       "      <td>-0.008602</td>\n",
       "    </tr>\n",
       "    <tr>\n",
       "      <th>105074</th>\n",
       "      <td>2012-12-31 23:40:00</td>\n",
       "      <td>0.0</td>\n",
       "      <td>0.510119</td>\n",
       "      <td>-0.008602</td>\n",
       "    </tr>\n",
       "    <tr>\n",
       "      <th>105075</th>\n",
       "      <td>2012-12-31 23:45:00</td>\n",
       "      <td>0.0</td>\n",
       "      <td>0.510119</td>\n",
       "      <td>-0.008602</td>\n",
       "    </tr>\n",
       "    <tr>\n",
       "      <th>105076</th>\n",
       "      <td>2012-12-31 23:50:00</td>\n",
       "      <td>0.0</td>\n",
       "      <td>0.510119</td>\n",
       "      <td>-0.008602</td>\n",
       "    </tr>\n",
       "    <tr>\n",
       "      <th>105077</th>\n",
       "      <td>2012-12-31 23:55:00</td>\n",
       "      <td>0.0</td>\n",
       "      <td>0.510119</td>\n",
       "      <td>-0.008602</td>\n",
       "    </tr>\n",
       "  </tbody>\n",
       "</table>\n",
       "<p>105078 rows × 4 columns</p>\n",
       "</div>"
      ],
      "text/plain": [
       "                  datetime   pr       CDF  projected_pr\n",
       "0      2012-01-01 00:00:00  0.0  0.510119     -0.008602\n",
       "1      2012-01-01 00:05:00  0.0  0.510119     -0.008602\n",
       "2      2012-01-01 00:10:00  0.0  0.510119     -0.008602\n",
       "3      2012-01-01 00:15:00  0.0  0.510119     -0.008602\n",
       "4      2012-01-01 00:20:00  0.0  0.510119     -0.008602\n",
       "...                    ...  ...       ...           ...\n",
       "105073 2012-12-31 23:35:00  0.0  0.510119     -0.008602\n",
       "105074 2012-12-31 23:40:00  0.0  0.510119     -0.008602\n",
       "105075 2012-12-31 23:45:00  0.0  0.510119     -0.008602\n",
       "105076 2012-12-31 23:50:00  0.0  0.510119     -0.008602\n",
       "105077 2012-12-31 23:55:00  0.0  0.510119     -0.008602\n",
       "\n",
       "[105078 rows x 4 columns]"
      ]
     },
     "metadata": {},
     "output_type": "display_data"
    }
   ],
   "source": [
    "projected_by_intensity = 0\n",
    "projected_by_intensity = project_by_intensity(storms_modeled_past, storms_modeled_future, storms_obs)\n",
    "display(projected_by_intensity)"
   ]
  },
  {
   "cell_type": "code",
   "execution_count": 24,
   "metadata": {},
   "outputs": [
    {
     "data": {
      "text/plain": [
       "<function matplotlib.pyplot.show(close=None, block=None)>"
      ]
     },
     "execution_count": 24,
     "metadata": {},
     "output_type": "execute_result"
    },
    {
     "data": {
      "image/png": "[encoded data removed]",
      "text/plain": [
       "<Figure size 640x480 with 1 Axes>"
      ]
     },
     "metadata": {},
     "output_type": "display_data"
    }
   ],
   "source": [
    "x1 = projected_by_intensity.datetime[:]\n",
    "y1 = projected_by_intensity.pr[:]\n",
    "\n",
    "x2 = x1\n",
    "y2 = projected_by_intensity.projected_pr[:]\n",
    "plt.xticks([])\n",
    "plt.xlim()\n",
    "\n",
    "plt.plot(x2, y2, x1, y1, label='Projected Precipitation')\n",
    "\n",
    "plt.show"
   ]
  },
  {
   "cell_type": "code",
   "execution_count": 25,
   "metadata": {},
   "outputs": [
    {
     "data": {
      "text/plain": [
       "<function matplotlib.pyplot.show(close=None, block=None)>"
      ]
     },
     "execution_count": 25,
     "metadata": {},
     "output_type": "execute_result"
    },
    {
     "data": {
      "image/png": "[encoded data removed]",
      "text/plain": [
       "<Figure size 640x480 with 1 Axes>"
      ]
     },
     "metadata": {},
     "output_type": "display_data"
    }
   ],
   "source": [
    "x1 = projected_by_intensity.datetime[3050:3250]\n",
    "y1 = projected_by_intensity.pr[3050:3250]\n",
    "\n",
    "x2 = x1\n",
    "y2 = projected_by_intensity.projected_pr[3050:3250]\n",
    "\n",
    "# plt.figure(figsize=(18,15))\n",
    "plt.xticks([])\n",
    "plt.xlim()\n",
    "\n",
    "plt.plot(x2, y2, x1, y1, label='Projected Precipitation')\n",
    "\n",
    "plt.show"
   ]
  },
  {
   "cell_type": "markdown",
   "metadata": {},
   "source": [
    "- Do something to remove negative values\n",
    "- Further analysis\n",
    "- How to make scrollable plot?\n",
    "- Add labels to plots\n",
    "- How does the projection compare to the original?\n",
    "- How do the methods compare to one another? \n",
    "- Hide futurewarning or fix the thing that's causing it\n",
    "- Set up .yaml with current versions of packages to future proof\n",
    "- Rerun trim function to see if it still adds unnamed column. If so, fix.\n",
    "- Benefits of having multiple notebooks vs only one? Since it's a notebook instead of a script, one might be better, and the markdown can be used to clearly denote what's happening\n",
    "- Check effects of bucketing\n",
    "- Try plotting CDF to see if it makes sense. Weird that no rain = CDF of ~.5\n",
    "- histogram of storm duration from past to future to see if duration tends to increase or decrease - look at nonbucketed, but could use bins when plotting/showing results\n",
    "- Did I keep zeros in when using the first method (not in this doc)? What are the implications of keeping/removing the zeros --- yes\n",
    "- For bucket method (change to bin), duration of storm and number of time steps where one value for pr_sum appear in the data are probably skewing the CDF. Change to calculate stats based on non-merged dataset (trimmed.csv)"
   ]
  },
  {
   "cell_type": "markdown",
   "metadata": {},
   "source": []
  }
 ],
 "metadata": {
  "kernelspec": {
   "display_name": "Python 3",
   "language": "python",
   "name": "python3"
  },
  "language_info": {
   "codemirror_mode": {
    "name": "ipython",
    "version": 3
   },
   "file_extension": ".py",
   "mimetype": "text/x-python",
   "name": "python",
   "nbconvert_exporter": "python",
   "pygments_lexer": "ipython3",
   "version": "3.11.4"
  }
 },
 "nbformat": 4,
 "nbformat_minor": 2
}
